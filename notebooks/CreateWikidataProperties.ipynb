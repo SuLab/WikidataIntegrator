{
 "cells": [
  {
   "cell_type": "markdown",
   "metadata": {
    "id": "bm-HAIgTADwd"
   },
   "source": [
    "##import the Wikidata integrator"
   ]
  },
  {
   "cell_type": "markdown",
   "metadata": {
    "id": "UO_tqsAvTY92"
   },
   "source": []
  },
  {
   "cell_type": "code",
   "execution_count": 4,
   "metadata": {
    "id": "7VtyqOKO_9t7"
   },
   "outputs": [],
   "source": [
    "%%capture\n",
    "!pip install wikidataintegrator\n",
    "from wikidataintegrator import wdi_core, wdi_login, wdi_config"
   ]
  },
  {
   "cell_type": "markdown",
   "metadata": {
    "id": "7r2IMh2AAQ6o"
   },
   "source": [
    "## Get all Wikidata properties"
   ]
  },
  {
   "cell_type": "code",
   "execution_count": 10,
   "metadata": {
    "colab": {
     "base_uri": "https://localhost:8080/",
     "height": 589
    },
    "id": "a_wQ7VGMAYCZ",
    "outputId": "09fa2255-fb51-40e1-8408-617f9ad31874"
   },
   "outputs": [
    {
     "data": {
      "text/html": [
       "<div>\n",
       "<style scoped>\n",
       "    .dataframe tbody tr th:only-of-type {\n",
       "        vertical-align: middle;\n",
       "    }\n",
       "\n",
       "    .dataframe tbody tr th {\n",
       "        vertical-align: top;\n",
       "    }\n",
       "\n",
       "    .dataframe thead th {\n",
       "        text-align: right;\n",
       "    }\n",
       "</style>\n",
       "<table border=\"1\" class=\"dataframe\">\n",
       "  <thead>\n",
       "    <tr style=\"text-align: right;\">\n",
       "      <th></th>\n",
       "      <th>property</th>\n",
       "      <th>propType</th>\n",
       "      <th>propertyDescription</th>\n",
       "      <th>propertyLabel</th>\n",
       "      <th>datatype</th>\n",
       "    </tr>\n",
       "  </thead>\n",
       "  <tbody>\n",
       "    <tr>\n",
       "      <th>0</th>\n",
       "      <td>http://data.lexbib.org/entity/P88</td>\n",
       "      <td>http://wikiba.se/ontology#String</td>\n",
       "      <td>written representation of a term candidate ext...</td>\n",
       "      <td>corpus keyword</td>\n",
       "      <td>string</td>\n",
       "    </tr>\n",
       "    <tr>\n",
       "      <th>1</th>\n",
       "      <td>http://data.lexbib.org/entity/P90</td>\n",
       "      <td>http://wikiba.se/ontology#WikibaseItem</td>\n",
       "      <td>Lexical Conceptual Resource type</td>\n",
       "      <td>LCR type</td>\n",
       "      <td>wikibase-item</td>\n",
       "    </tr>\n",
       "    <tr>\n",
       "      <th>2</th>\n",
       "      <td>http://data.lexbib.org/entity/P48</td>\n",
       "      <td>http://wikiba.se/ontology#WikibaseItem</td>\n",
       "      <td>reverse property: Author (P12)</td>\n",
       "      <td>is author of</td>\n",
       "      <td>wikibase-item</td>\n",
       "    </tr>\n",
       "    <tr>\n",
       "      <th>3</th>\n",
       "      <td>http://data.lexbib.org/entity/P55</td>\n",
       "      <td>http://wikiba.se/ontology#WikibaseItem</td>\n",
       "      <td>ms:distribution</td>\n",
       "      <td>physical distribution</td>\n",
       "      <td>wikibase-item</td>\n",
       "    </tr>\n",
       "    <tr>\n",
       "      <th>4</th>\n",
       "      <td>http://data.lexbib.org/entity/P56</td>\n",
       "      <td>http://wikiba.se/ontology#WikibaseItem</td>\n",
       "      <td>object language (used for automatic indexation)</td>\n",
       "      <td>object language candidate</td>\n",
       "      <td>wikibase-item</td>\n",
       "    </tr>\n",
       "    <tr>\n",
       "      <th>5</th>\n",
       "      <td>http://data.lexbib.org/entity/P57</td>\n",
       "      <td>http://wikiba.se/ontology#Url</td>\n",
       "      <td>equivalent MetaShare property</td>\n",
       "      <td>MetaShare Property</td>\n",
       "      <td>url</td>\n",
       "    </tr>\n",
       "    <tr>\n",
       "      <th>6</th>\n",
       "      <td>http://data.lexbib.org/entity/P58</td>\n",
       "      <td>http://wikiba.se/ontology#Url</td>\n",
       "      <td>equivalent MetaShare class</td>\n",
       "      <td>MetaShare Ontology Class</td>\n",
       "      <td>url</td>\n",
       "    </tr>\n",
       "    <tr>\n",
       "      <th>7</th>\n",
       "      <td>http://data.lexbib.org/entity/P59</td>\n",
       "      <td>http://wikiba.se/ontology#WikibaseItem</td>\n",
       "      <td>ms:mediaPart</td>\n",
       "      <td>media part</td>\n",
       "      <td>wikibase-item</td>\n",
       "    </tr>\n",
       "    <tr>\n",
       "      <th>8</th>\n",
       "      <td>http://data.lexbib.org/entity/P60</td>\n",
       "      <td>http://wikiba.se/ontology#WikibaseItem</td>\n",
       "      <td>inverse property of \"has distribution\"</td>\n",
       "      <td>distribution of</td>\n",
       "      <td>wikibase-item</td>\n",
       "    </tr>\n",
       "    <tr>\n",
       "      <th>9</th>\n",
       "      <td>http://data.lexbib.org/entity/P63</td>\n",
       "      <td>http://wikiba.se/ontology#WikibaseItem</td>\n",
       "      <td>ms:isContinuedBy</td>\n",
       "      <td>is continued by</td>\n",
       "      <td>wikibase-item</td>\n",
       "    </tr>\n",
       "    <tr>\n",
       "      <th>10</th>\n",
       "      <td>http://data.lexbib.org/entity/P10</td>\n",
       "      <td>http://wikiba.se/ontology#WikibaseItem</td>\n",
       "      <td>Property that points to a location</td>\n",
       "      <td>Place</td>\n",
       "      <td>wikibase-item</td>\n",
       "    </tr>\n",
       "    <tr>\n",
       "      <th>11</th>\n",
       "      <td>http://data.lexbib.org/entity/P3</td>\n",
       "      <td>http://wikiba.se/ontology#Url</td>\n",
       "      <td>Internal identifier for version and duplicate ...</td>\n",
       "      <td>LexBib legacy item URI</td>\n",
       "      <td>url</td>\n",
       "    </tr>\n",
       "    <tr>\n",
       "      <th>12</th>\n",
       "      <td>http://data.lexbib.org/entity/P1</td>\n",
       "      <td>http://wikiba.se/ontology#Url</td>\n",
       "      <td>Internal identifier for data migration and ali...</td>\n",
       "      <td>LexBib legacy property ID</td>\n",
       "      <td>url</td>\n",
       "    </tr>\n",
       "    <tr>\n",
       "      <th>13</th>\n",
       "      <td>http://data.lexbib.org/entity/P82</td>\n",
       "      <td>http://wikiba.se/ontology#String</td>\n",
       "      <td>SkE keyword extraction score</td>\n",
       "      <td>frequency score</td>\n",
       "      <td>string</td>\n",
       "    </tr>\n",
       "  </tbody>\n",
       "</table>\n",
       "</div>"
      ],
      "text/plain": [
       "                             property                                propType  \\\n",
       "0   http://data.lexbib.org/entity/P88        http://wikiba.se/ontology#String   \n",
       "1   http://data.lexbib.org/entity/P90  http://wikiba.se/ontology#WikibaseItem   \n",
       "2   http://data.lexbib.org/entity/P48  http://wikiba.se/ontology#WikibaseItem   \n",
       "3   http://data.lexbib.org/entity/P55  http://wikiba.se/ontology#WikibaseItem   \n",
       "4   http://data.lexbib.org/entity/P56  http://wikiba.se/ontology#WikibaseItem   \n",
       "5   http://data.lexbib.org/entity/P57           http://wikiba.se/ontology#Url   \n",
       "6   http://data.lexbib.org/entity/P58           http://wikiba.se/ontology#Url   \n",
       "7   http://data.lexbib.org/entity/P59  http://wikiba.se/ontology#WikibaseItem   \n",
       "8   http://data.lexbib.org/entity/P60  http://wikiba.se/ontology#WikibaseItem   \n",
       "9   http://data.lexbib.org/entity/P63  http://wikiba.se/ontology#WikibaseItem   \n",
       "10  http://data.lexbib.org/entity/P10  http://wikiba.se/ontology#WikibaseItem   \n",
       "11   http://data.lexbib.org/entity/P3           http://wikiba.se/ontology#Url   \n",
       "12   http://data.lexbib.org/entity/P1           http://wikiba.se/ontology#Url   \n",
       "13  http://data.lexbib.org/entity/P82        http://wikiba.se/ontology#String   \n",
       "\n",
       "                                  propertyDescription  \\\n",
       "0   written representation of a term candidate ext...   \n",
       "1                    Lexical Conceptual Resource type   \n",
       "2                      reverse property: Author (P12)   \n",
       "3                                     ms:distribution   \n",
       "4     object language (used for automatic indexation)   \n",
       "5                       equivalent MetaShare property   \n",
       "6                          equivalent MetaShare class   \n",
       "7                                        ms:mediaPart   \n",
       "8              inverse property of \"has distribution\"   \n",
       "9                                    ms:isContinuedBy   \n",
       "10                 Property that points to a location   \n",
       "11  Internal identifier for version and duplicate ...   \n",
       "12  Internal identifier for data migration and ali...   \n",
       "13                       SkE keyword extraction score   \n",
       "\n",
       "                propertyLabel       datatype  \n",
       "0              corpus keyword         string  \n",
       "1                    LCR type  wikibase-item  \n",
       "2                is author of  wikibase-item  \n",
       "3       physical distribution  wikibase-item  \n",
       "4   object language candidate  wikibase-item  \n",
       "5          MetaShare Property            url  \n",
       "6    MetaShare Ontology Class            url  \n",
       "7                  media part  wikibase-item  \n",
       "8             distribution of  wikibase-item  \n",
       "9             is continued by  wikibase-item  \n",
       "10                      Place  wikibase-item  \n",
       "11     LexBib legacy item URI            url  \n",
       "12  LexBib legacy property ID            url  \n",
       "13            frequency score         string  "
      ]
     },
     "execution_count": 10,
     "metadata": {},
     "output_type": "execute_result"
    }
   ],
   "source": [
    "sparql = \"https://data.lexbib.org/query/sparql\"\n",
    "\n",
    "query = \"\"\"\n",
    "SELECT DISTINCT ?property ?propertyLabel ?propertyDescription ?propType WHERE {\n",
    "   ?property wikibase:directClaim ?p ;\n",
    "             wikibase:propertyType ?propType ;\n",
    "             schema:description ?propertyDescription ;\n",
    "             rdfs:label ?propertyLabel .\n",
    "   FILTER (lang(?propertyLabel) = 'en')\n",
    "   FILTER (lang(?propertyDescription) = 'en')}\n",
    "\"\"\"\n",
    "propertiesSparql = wdi_core.WDItemEngine.execute_sparql_query(query, endpoint=sparql, as_dataframe=True)\n",
    "propertiesSparql\n",
    "\n",
    "datatype_map = {}\n",
    "for datatype in wdi_config.property_value_types.keys():\n",
    "    datatype_map[wdi_config.property_value_types[datatype]] = datatype\n",
    "propertiesSparql['datatype']= \"\"\n",
    "for index, row in propertiesSparql.iterrows():\n",
    "    row[\"datatype\"] = datatype_map[row[\"propType\"]] \n",
    "propertiesSparql "
   ]
  },
  {
   "cell_type": "markdown",
   "metadata": {
    "id": "EsjNTB09DuBa"
   },
   "source": [
    "## Login to Wikibase"
   ]
  },
  {
   "cell_type": "code",
   "execution_count": 11,
   "metadata": {
    "colab": {
     "base_uri": "https://localhost:8080/",
     "height": 68
    },
    "id": "qzRLNAK2DtKB",
    "outputId": "9140cb16-c49d-4465-eb17-3d4c010d66b9"
   },
   "outputs": [
    {
     "name": "stdout",
     "output_type": "stream",
     "text": [
      "username:········\n",
      "Enter your password: ········\n"
     ]
    }
   ],
   "source": [
    "from getpass import getpass\n",
    "import pprint\n",
    "\n",
    "# https://data.lexbib.org\n",
    "wikibase = \"https://lexbibclone.wiki.opencura.com/\"\n",
    "api = wikibase+\"w/api.php\"\n",
    "sparql = wikibase+\"query/sparql\"\n",
    "entityUri = wikibase.replace(\"https:\", \"http:\")+\"entity/\"\n",
    "\n",
    "WBUSER = getpass(prompt=\"username:\")  \n",
    "WBPASS = getpass(prompt='Enter your password: ')  \n",
    "login = wdi_login.WDLogin(WBUSER, WBPASS, mediawiki_api_url=api)"
   ]
  },
  {
   "cell_type": "markdown",
   "metadata": {
    "id": "XAKqnYzzFVjm"
   },
   "source": [
    "#### Function to create properties"
   ]
  },
  {
   "cell_type": "code",
   "execution_count": 14,
   "metadata": {
    "id": "8RleImbtDtts"
   },
   "outputs": [],
   "source": [
    "def createProperty(login=login, wdprop=None, label=\"\", description=\"\", property_datatype=\"\"):\n",
    "    if wdprop== None:\n",
    "        s = []\n",
    "    else:\n",
    "        s = [wdi_core.WDUrl(wdprop, prop_nr=\"P1\")]\n",
    "    localEntityEngine = wdi_core.WDItemEngine.wikibase_item_engine_factory(api,sparql)\n",
    "    item = localEntityEngine(data=s)\n",
    "    item.set_label(label)\n",
    "    item.set_description(description)\n",
    "    print(item.write(login, entity_type=\"property\", property_datatype=property_datatype))\n",
    "\n",
    "#create mapping to wikidata property\n",
    "\n",
    "#createProperty(login, label=\"property in wikidata\", description=\"The same property in Wikidata\", property_datatype=\"url\")\n",
    "  "
   ]
  },
  {
   "cell_type": "markdown",
   "metadata": {
    "id": "GF57nhBhKXri"
   },
   "source": [
    "#### Create Wikidata properties"
   ]
  },
  {
   "cell_type": "code",
   "execution_count": 16,
   "metadata": {
    "colab": {
     "base_uri": "https://localhost:8080/",
     "height": 1000
    },
    "id": "wRhc5dmjKXKG",
    "outputId": "f9ca28c1-5a81-485f-8483-c09239580e70"
   },
   "outputs": [
    {
     "name": "stdout",
     "output_type": "stream",
     "text": [
      "string\n",
      "Pandas(Index=0, property='http://data.lexbib.org/entity/P88', propType='http://wikiba.se/ontology#String', propertyDescription='written representation of a term candidate extracted from corpora', propertyLabel='corpus keyword', datatype='string')\n",
      "P2\n",
      "wikibase-item\n",
      "Pandas(Index=1, property='http://data.lexbib.org/entity/P90', propType='http://wikiba.se/ontology#WikibaseItem', propertyDescription='Lexical Conceptual Resource type', propertyLabel='LCR type', datatype='wikibase-item')\n",
      "P3\n",
      "wikibase-item\n",
      "Pandas(Index=2, property='http://data.lexbib.org/entity/P48', propType='http://wikiba.se/ontology#WikibaseItem', propertyDescription='reverse property: Author (P12)', propertyLabel='is author of', datatype='wikibase-item')\n",
      "P4\n",
      "wikibase-item\n",
      "Pandas(Index=3, property='http://data.lexbib.org/entity/P55', propType='http://wikiba.se/ontology#WikibaseItem', propertyDescription='ms:distribution', propertyLabel='physical distribution', datatype='wikibase-item')\n",
      "P5\n",
      "wikibase-item\n",
      "Pandas(Index=4, property='http://data.lexbib.org/entity/P56', propType='http://wikiba.se/ontology#WikibaseItem', propertyDescription='object language (used for automatic indexation)', propertyLabel='object language candidate', datatype='wikibase-item')\n",
      "P6\n",
      "url\n",
      "Pandas(Index=5, property='http://data.lexbib.org/entity/P57', propType='http://wikiba.se/ontology#Url', propertyDescription='equivalent MetaShare property', propertyLabel='MetaShare Property', datatype='url')\n",
      "P7\n",
      "url\n",
      "Pandas(Index=6, property='http://data.lexbib.org/entity/P58', propType='http://wikiba.se/ontology#Url', propertyDescription='equivalent MetaShare class', propertyLabel='MetaShare Ontology Class', datatype='url')\n",
      "P8\n",
      "wikibase-item\n",
      "Pandas(Index=7, property='http://data.lexbib.org/entity/P59', propType='http://wikiba.se/ontology#WikibaseItem', propertyDescription='ms:mediaPart', propertyLabel='media part', datatype='wikibase-item')\n",
      "P9\n",
      "wikibase-item\n",
      "Pandas(Index=8, property='http://data.lexbib.org/entity/P60', propType='http://wikiba.se/ontology#WikibaseItem', propertyDescription='inverse property of \"has distribution\"', propertyLabel='distribution of', datatype='wikibase-item')\n",
      "P10\n",
      "wikibase-item\n",
      "Pandas(Index=9, property='http://data.lexbib.org/entity/P63', propType='http://wikiba.se/ontology#WikibaseItem', propertyDescription='ms:isContinuedBy', propertyLabel='is continued by', datatype='wikibase-item')\n",
      "P11\n",
      "wikibase-item\n",
      "Pandas(Index=10, property='http://data.lexbib.org/entity/P10', propType='http://wikiba.se/ontology#WikibaseItem', propertyDescription='Property that points to a location', propertyLabel='Place', datatype='wikibase-item')\n",
      "P12\n",
      "url\n",
      "Pandas(Index=11, property='http://data.lexbib.org/entity/P3', propType='http://wikiba.se/ontology#Url', propertyDescription='Internal identifier for version and duplicate control (deprecated)', propertyLabel='LexBib legacy item URI', datatype='url')\n",
      "P13\n",
      "url\n",
      "Pandas(Index=12, property='http://data.lexbib.org/entity/P1', propType='http://wikiba.se/ontology#Url', propertyDescription='Internal identifier for data migration and alignments', propertyLabel='LexBib legacy property ID', datatype='url')\n",
      "P14\n",
      "string\n",
      "Pandas(Index=13, property='http://data.lexbib.org/entity/P82', propType='http://wikiba.se/ontology#String', propertyDescription='SkE keyword extraction score', propertyLabel='frequency score', datatype='string')\n",
      "P15\n"
     ]
    }
   ],
   "source": [
    "for row in propertiesSparql.itertuples():\n",
    "    print(datatype_map[row.propType])\n",
    "    print(row)\n",
    "    createProperty(login=login, label=row.propertyLabel, description=row.propertyDescription, property_datatype=datatype_map[row.propType])"
   ]
  }
 ],
 "metadata": {
  "colab": {
   "collapsed_sections": [],
   "name": "CreateWikidataProperties.ipynb",
   "provenance": []
  },
  "kernelspec": {
   "display_name": "Python 3",
   "language": "python",
   "name": "python3"
  },
  "language_info": {
   "codemirror_mode": {
    "name": "ipython",
    "version": 3
   },
   "file_extension": ".py",
   "mimetype": "text/x-python",
   "name": "python",
   "nbconvert_exporter": "python",
   "pygments_lexer": "ipython3",
   "version": "3.9.0"
  }
 },
 "nbformat": 4,
 "nbformat_minor": 1
}
